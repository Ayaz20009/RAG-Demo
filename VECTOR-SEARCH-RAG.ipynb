{
 "cells": [
  {
   "cell_type": "markdown",
   "id": "b5032137",
   "metadata": {
    "slideshow": {
     "slide_type": "skip"
    }
   },
   "source": [
    "<img src=\"https://cdn-assets-cloud.frontify.com/local/frontify/eyJwYXRoIjoiXC9wdWJsaWNcL3VwbG9hZFwvc2NyZWVuc1wvMTk3OTA0XC80M2ZmNTdhYjc4OTdlZjUzY2IzMWUwNGU0MTVjZTY2NC0xNTYyMTAzMDk0LnBuZyJ9:frontify:7CTV2DtJsWvlctEUEyFK36JoXsZuVtHssMaDED6O5z0\" width='150' />\n",
    "\n",
    "# VECTOR SEARCH - RETRIEVAL AUGMENTED GENERATION\n",
    "\n",
    "__How to use this notebook__\n",
    "\n",
    "1. Run the code cell below and paste the following into the password widgets:\n",
    "    1. Your Atlas cluster URI (w/ read/write permissions)\n",
    "    1. Your OpenAI API key (used to create embeddings and pose questions to an LLM)\n",
    "1. If desired, use a custom PDF URL and ask custom questions at the end\n",
    "1. Present the notebook via the \"Enter/Exit RISE Slideshow\" toolbar button (looks like a bar chart)\n",
    "    1. Put your browser into full-screen mode for best results\n",
    "    1. To advance a cell without executing, use \"Space\"\n",
    "    1. To execute the current cell, use \"Shift-Enter\""
   ]
  },
  {
   "cell_type": "code",
   "execution_count": 11,
   "id": "ef810b58",
   "metadata": {
    "slideshow": {
     "slide_type": "skip"
    }
   },
   "outputs": [
    {
     "data": {
      "application/vnd.jupyter.widget-view+json": {
       "model_id": "9ca8901a805e4972ae84294275a0d64e",
       "version_major": 2,
       "version_minor": 0
      },
      "text/plain": [
       "Password(description='Your Atlas URI:', style=DescriptionStyle(description_width='125px'))"
      ]
     },
     "metadata": {},
     "output_type": "display_data"
    },
    {
     "data": {
      "application/vnd.jupyter.widget-view+json": {
       "model_id": "28c526974f374b94a75dcafc0b806ab6",
       "version_major": 2,
       "version_minor": 0
      },
      "text/plain": [
       "Password(description='Your OpenAI API key:', style=DescriptionStyle(description_width='125px'))"
      ]
     },
     "metadata": {},
     "output_type": "display_data"
    }
   ],
   "source": [
    "import ipywidgets as widgets\n",
    "import os\n",
    "\n",
    "mongodb_uri_widget = widgets.Password(\n",
    "    description='Your Atlas URI:',\n",
    "    disabled=False,\n",
    "    style=dict(description_width='125px')\n",
    ")\n",
    "\n",
    "openai_api_key_widget = widgets.Password(\n",
    "    description='Your OpenAI API key:',\n",
    "    disabled=False,\n",
    "    style=dict(description_width='125px')\n",
    ")\n",
    "\n",
    "display(mongodb_uri_widget)\n",
    "display(openai_api_key_widget)"
   ]
  },
  {
   "cell_type": "markdown",
   "id": "b6c3bdf5",
   "metadata": {
    "slideshow": {
     "slide_type": "slide"
    }
   },
   "source": [
    "# Retrieval Augmented Generation\n",
    "### Using MongoDB Atlas, OpenAI and LangChain"
   ]
  },
  {
   "cell_type": "code",
   "execution_count": 12,
   "id": "88ce891f",
   "metadata": {
    "collapsed": true,
    "slideshow": {
     "slide_type": "fragment"
    }
   },
   "outputs": [
    {
     "data": {
      "text/html": [
       "\n",
       "        <iframe\n",
       "            width=\"1280\"\n",
       "            height=\"500\"\n",
       "            src=\"https://s3.amazonaws.com/info-mongodb-com/MongoDB_Architecture_Guide.pdf\"\n",
       "            frameborder=\"0\"\n",
       "            allowfullscreen\n",
       "            \n",
       "        ></iframe>\n",
       "        "
      ],
      "text/plain": [
       "<IPython.lib.display.IFrame at 0x7fe16b272f40>"
      ]
     },
     "execution_count": 12,
     "metadata": {},
     "output_type": "execute_result"
    }
   ],
   "source": [
    "from IPython.display import IFrame\n",
    "\n",
    "PDF_URI = \"https://s3.amazonaws.com/info-mongodb-com/MongoDB_Architecture_Guide.pdf\"\n",
    "IFrame(PDF_URI, width=1280, height=500)"
   ]
  },
  {
   "cell_type": "markdown",
   "id": "7fffd967",
   "metadata": {
    "slideshow": {
     "slide_type": "slide"
    }
   },
   "source": [
    "# Get connection to MongoDB Atlas"
   ]
  },
  {
   "cell_type": "code",
   "execution_count": 13,
   "id": "e99c8377-2475-4e5d-b94a-b4e80bc8ce87",
   "metadata": {
    "collapsed": true,
    "slideshow": {
     "slide_type": "fragment"
    }
   },
   "outputs": [
    {
     "data": {
      "text/plain": [
       "'rag_demo.content document count is 18'"
      ]
     },
     "execution_count": 13,
     "metadata": {},
     "output_type": "execute_result"
    }
   ],
   "source": [
    "from pymongo import MongoClient\n",
    "import os\n",
    "\n",
    "mongo_db_name = 'rag_demo'\n",
    "mongo_coll_name = 'content'\n",
    "\n",
    "mongo_client = MongoClient(mongodb_uri_widget.value)\n",
    "mongo_coll = mongo_client[mongo_db_name][mongo_coll_name]\n",
    "mongo_db_and_coll_path = '{}.{}'.format(mongo_db_name, mongo_coll_name)\n",
    "\n",
    "doc_count = mongo_coll.count_documents({})\n",
    "'{} document count is {:,}'.format(mongo_db_and_coll_path, doc_count)"
   ]
  },
  {
   "cell_type": "code",
   "execution_count": 14,
   "id": "a9933ee6",
   "metadata": {
    "collapsed": true,
    "slideshow": {
     "slide_type": "skip"
    }
   },
   "outputs": [
    {
     "data": {
      "text/plain": [
       "<pymongo.results.DeleteResult at 0x7fe16b291e80>"
      ]
     },
     "execution_count": 14,
     "metadata": {},
     "output_type": "execute_result"
    }
   ],
   "source": [
    "# Delete existing documents -- run before demo\n",
    "mongo_coll.delete_many({})"
   ]
  },
  {
   "cell_type": "markdown",
   "id": "1cdf4297",
   "metadata": {
    "slideshow": {
     "slide_type": "slide"
    }
   },
   "source": [
    "# Select embeddings/transformer model"
   ]
  },
  {
   "cell_type": "code",
   "execution_count": 15,
   "id": "1fc7b0b4-19c9-4965-8491-dcda400e32e3",
   "metadata": {
    "slideshow": {
     "slide_type": "fragment"
    }
   },
   "outputs": [
    {
     "name": "stdout",
     "output_type": "stream",
     "text": [
      "Embedding Model - OpenAI\n"
     ]
    }
   ],
   "source": [
    "from langchain.embeddings import OpenAIEmbeddings\n",
    "\n",
    "embeddings_model = OpenAIEmbeddings(\n",
    "    model='text-embedding-ada-002',\n",
    "    openai_api_key=openai_api_key_widget.value\n",
    ")\n",
    "\n",
    "print('Embedding Model - OpenAI')"
   ]
  },
  {
   "cell_type": "markdown",
   "id": "f344cf95",
   "metadata": {
    "slideshow": {
     "slide_type": "slide"
    }
   },
   "source": [
    "# Split PDF into chunks"
   ]
  },
  {
   "cell_type": "code",
   "execution_count": 16,
   "id": "a1008c71-2762-4162-852f-b351bff1a6dc",
   "metadata": {
    "collapsed": true,
    "slideshow": {
     "slide_type": "fragment"
    }
   },
   "outputs": [
    {
     "data": {
      "text/plain": [
       "'PDF has resulted in 18 chunks'"
      ]
     },
     "execution_count": 16,
     "metadata": {},
     "output_type": "execute_result"
    }
   ],
   "source": [
    "from langchain.document_loaders import PyPDFLoader\n",
    "\n",
    "loader = PyPDFLoader(PDF_URI)\n",
    "chunked_docs = loader.load_and_split()\n",
    "\n",
    "'PDF has resulted in {:,} chunks'.format(len(chunked_docs))"
   ]
  },
  {
   "cell_type": "code",
   "execution_count": 17,
   "id": "c716f036",
   "metadata": {
    "collapsed": true,
    "slideshow": {
     "slide_type": "fragment"
    }
   },
   "outputs": [
    {
     "data": {
      "text/plain": [
       "'The biggest chunk contains 415 words'"
      ]
     },
     "execution_count": 17,
     "metadata": {},
     "output_type": "execute_result"
    }
   ],
   "source": [
    "biggest_chunk_length = max(len(chunk.page_content.split()) for chunk in chunked_docs)\n",
    "'The biggest chunk contains {:,} words'.format(biggest_chunk_length)"
   ]
  },
  {
   "cell_type": "markdown",
   "id": "998a216a",
   "metadata": {
    "slideshow": {
     "slide_type": "slide"
    }
   },
   "source": [
    "# Create vectors and add to MongoDB Atlas"
   ]
  },
  {
   "cell_type": "code",
   "execution_count": 18,
   "id": "339402be",
   "metadata": {
    "slideshow": {
     "slide_type": "fragment"
    }
   },
   "outputs": [],
   "source": [
    "from langchain.vectorstores import MongoDBAtlasVectorSearch\n",
    "\n",
    "vector_db = MongoDBAtlasVectorSearch.from_documents(\n",
    "    chunked_docs,\n",
    "    embeddings_model,\n",
    "    collection=mongo_coll\n",
    ")"
   ]
  },
  {
   "cell_type": "code",
   "execution_count": 19,
   "id": "fdb1bf89",
   "metadata": {
    "collapsed": true,
    "slideshow": {
     "slide_type": "fragment"
    }
   },
   "outputs": [
    {
     "data": {
      "text/plain": [
       "'MongoDB document count in rag_demo.content is 18'"
      ]
     },
     "execution_count": 19,
     "metadata": {},
     "output_type": "execute_result"
    }
   ],
   "source": [
    "doc_count = mongo_coll.count_documents({})\n",
    "'MongoDB document count in {} is {:,}'.format(mongo_db_and_coll_path, doc_count)"
   ]
  },
  {
   "cell_type": "markdown",
   "id": "aa68054b",
   "metadata": {
    "slideshow": {
     "slide_type": "slide"
    }
   },
   "source": [
    "# Create MongoDB Atlas vector search index"
   ]
  },
  {
   "cell_type": "code",
   "execution_count": 19,
   "id": "e6448a3d-424b-4e09-bed9-ce59839ba76f",
   "metadata": {
    "collapsed": true,
    "slideshow": {
     "slide_type": "fragment"
    }
   },
   "outputs": [
    {
     "ename": "ServerSelectionTimeoutError",
     "evalue": "cluster0-shard-00-00.pnmkh.mongodb.net:27017: timed out,cluster0-shard-00-02.pnmkh.mongodb.net:27017: [Errno 60] Operation timed out,cluster0-shard-00-01.pnmkh.mongodb.net:27017: [Errno 60] Operation timed out, Timeout: 30s, Topology Description: <TopologyDescription id: 65e7d6686a27e14a0ad595d8, topology_type: ReplicaSetNoPrimary, servers: [<ServerDescription ('cluster0-shard-00-00.pnmkh.mongodb.net', 27017) server_type: Unknown, rtt: None, error=NetworkTimeout('cluster0-shard-00-00.pnmkh.mongodb.net:27017: timed out')>, <ServerDescription ('cluster0-shard-00-01.pnmkh.mongodb.net', 27017) server_type: Unknown, rtt: None, error=AutoReconnect('cluster0-shard-00-01.pnmkh.mongodb.net:27017: [Errno 60] Operation timed out')>, <ServerDescription ('cluster0-shard-00-02.pnmkh.mongodb.net', 27017) server_type: Unknown, rtt: None, error=AutoReconnect('cluster0-shard-00-02.pnmkh.mongodb.net:27017: [Errno 60] Operation timed out')>]>",
     "output_type": "error",
     "traceback": [
      "\u001b[0;31m---------------------------------------------------------------------------\u001b[0m",
      "\u001b[0;31mServerSelectionTimeoutError\u001b[0m               Traceback (most recent call last)",
      "\u001b[0;32m/var/folders/08/q0gyyp6s6p54f2wxtd6rrgn40000gp/T/ipykernel_98235/2692632492.py\u001b[0m in \u001b[0;36m<module>\u001b[0;34m\u001b[0m\n\u001b[1;32m     17\u001b[0m \u001b[0;34m\u001b[0m\u001b[0m\n\u001b[1;32m     18\u001b[0m \u001b[0;32mtry\u001b[0m\u001b[0;34m:\u001b[0m\u001b[0;34m\u001b[0m\u001b[0;34m\u001b[0m\u001b[0m\n\u001b[0;32m---> 19\u001b[0;31m     \u001b[0mmongo_coll\u001b[0m\u001b[0;34m.\u001b[0m\u001b[0mcreate_search_index\u001b[0m\u001b[0;34m(\u001b[0m\u001b[0mmongo_index_def\u001b[0m\u001b[0;34m)\u001b[0m\u001b[0;34m\u001b[0m\u001b[0;34m\u001b[0m\u001b[0m\n\u001b[0m\u001b[1;32m     20\u001b[0m     \u001b[0mprint\u001b[0m\u001b[0;34m(\u001b[0m\u001b[0;34m'Search index is building'\u001b[0m\u001b[0;34m)\u001b[0m\u001b[0;34m\u001b[0m\u001b[0;34m\u001b[0m\u001b[0m\n\u001b[1;32m     21\u001b[0m \u001b[0;32mexcept\u001b[0m \u001b[0mOperationFailure\u001b[0m \u001b[0;32mas\u001b[0m \u001b[0me\u001b[0m\u001b[0;34m:\u001b[0m\u001b[0;34m\u001b[0m\u001b[0;34m\u001b[0m\u001b[0m\n",
      "\u001b[0;32m~/opt/anaconda3/lib/python3.9/site-packages/pymongo/collection.py\u001b[0m in \u001b[0;36mcreate_search_index\u001b[0;34m(self, model, session, comment, **kwargs)\u001b[0m\n\u001b[1;32m   2435\u001b[0m         \u001b[0;32mif\u001b[0m \u001b[0;32mnot\u001b[0m \u001b[0misinstance\u001b[0m\u001b[0;34m(\u001b[0m\u001b[0mmodel\u001b[0m\u001b[0;34m,\u001b[0m \u001b[0mSearchIndexModel\u001b[0m\u001b[0;34m)\u001b[0m\u001b[0;34m:\u001b[0m\u001b[0;34m\u001b[0m\u001b[0;34m\u001b[0m\u001b[0m\n\u001b[1;32m   2436\u001b[0m             \u001b[0mmodel\u001b[0m \u001b[0;34m=\u001b[0m \u001b[0mSearchIndexModel\u001b[0m\u001b[0;34m(\u001b[0m\u001b[0mmodel\u001b[0m\u001b[0;34m[\u001b[0m\u001b[0;34m\"definition\"\u001b[0m\u001b[0;34m]\u001b[0m\u001b[0;34m,\u001b[0m \u001b[0mmodel\u001b[0m\u001b[0;34m.\u001b[0m\u001b[0mget\u001b[0m\u001b[0;34m(\u001b[0m\u001b[0;34m\"name\"\u001b[0m\u001b[0;34m)\u001b[0m\u001b[0;34m)\u001b[0m\u001b[0;34m\u001b[0m\u001b[0;34m\u001b[0m\u001b[0m\n\u001b[0;32m-> 2437\u001b[0;31m         \u001b[0;32mreturn\u001b[0m \u001b[0mself\u001b[0m\u001b[0;34m.\u001b[0m\u001b[0mcreate_search_indexes\u001b[0m\u001b[0;34m(\u001b[0m\u001b[0;34m[\u001b[0m\u001b[0mmodel\u001b[0m\u001b[0;34m]\u001b[0m\u001b[0;34m,\u001b[0m \u001b[0msession\u001b[0m\u001b[0;34m,\u001b[0m \u001b[0mcomment\u001b[0m\u001b[0;34m,\u001b[0m \u001b[0;34m**\u001b[0m\u001b[0mkwargs\u001b[0m\u001b[0;34m)\u001b[0m\u001b[0;34m[\u001b[0m\u001b[0;36m0\u001b[0m\u001b[0;34m]\u001b[0m\u001b[0;34m\u001b[0m\u001b[0;34m\u001b[0m\u001b[0m\n\u001b[0m\u001b[1;32m   2438\u001b[0m \u001b[0;34m\u001b[0m\u001b[0m\n\u001b[1;32m   2439\u001b[0m     def create_search_indexes(\n",
      "\u001b[0;32m~/opt/anaconda3/lib/python3.9/site-packages/pymongo/collection.py\u001b[0m in \u001b[0;36mcreate_search_indexes\u001b[0;34m(self, models, session, comment, **kwargs)\u001b[0m\n\u001b[1;32m   2475\u001b[0m         \u001b[0mcmd\u001b[0m\u001b[0;34m.\u001b[0m\u001b[0mupdate\u001b[0m\u001b[0;34m(\u001b[0m\u001b[0mkwargs\u001b[0m\u001b[0;34m)\u001b[0m\u001b[0;34m\u001b[0m\u001b[0;34m\u001b[0m\u001b[0m\n\u001b[1;32m   2476\u001b[0m \u001b[0;34m\u001b[0m\u001b[0m\n\u001b[0;32m-> 2477\u001b[0;31m         \u001b[0;32mwith\u001b[0m \u001b[0mself\u001b[0m\u001b[0;34m.\u001b[0m\u001b[0m_conn_for_writes\u001b[0m\u001b[0;34m(\u001b[0m\u001b[0msession\u001b[0m\u001b[0;34m)\u001b[0m \u001b[0;32mas\u001b[0m \u001b[0mconn\u001b[0m\u001b[0;34m:\u001b[0m\u001b[0;34m\u001b[0m\u001b[0;34m\u001b[0m\u001b[0m\n\u001b[0m\u001b[1;32m   2478\u001b[0m             resp = self._command(\n\u001b[1;32m   2479\u001b[0m                 \u001b[0mconn\u001b[0m\u001b[0;34m,\u001b[0m\u001b[0;34m\u001b[0m\u001b[0;34m\u001b[0m\u001b[0m\n",
      "\u001b[0;32m~/opt/anaconda3/lib/python3.9/site-packages/pymongo/collection.py\u001b[0m in \u001b[0;36m_conn_for_writes\u001b[0;34m(self, session)\u001b[0m\n\u001b[1;32m    263\u001b[0m \u001b[0;34m\u001b[0m\u001b[0m\n\u001b[1;32m    264\u001b[0m     \u001b[0;32mdef\u001b[0m \u001b[0m_conn_for_writes\u001b[0m\u001b[0;34m(\u001b[0m\u001b[0mself\u001b[0m\u001b[0;34m,\u001b[0m \u001b[0msession\u001b[0m\u001b[0;34m:\u001b[0m \u001b[0mOptional\u001b[0m\u001b[0;34m[\u001b[0m\u001b[0mClientSession\u001b[0m\u001b[0;34m]\u001b[0m\u001b[0;34m)\u001b[0m \u001b[0;34m->\u001b[0m \u001b[0mContextManager\u001b[0m\u001b[0;34m[\u001b[0m\u001b[0mConnection\u001b[0m\u001b[0;34m]\u001b[0m\u001b[0;34m:\u001b[0m\u001b[0;34m\u001b[0m\u001b[0;34m\u001b[0m\u001b[0m\n\u001b[0;32m--> 265\u001b[0;31m         \u001b[0;32mreturn\u001b[0m \u001b[0mself\u001b[0m\u001b[0;34m.\u001b[0m\u001b[0m__database\u001b[0m\u001b[0;34m.\u001b[0m\u001b[0mclient\u001b[0m\u001b[0;34m.\u001b[0m\u001b[0m_conn_for_writes\u001b[0m\u001b[0;34m(\u001b[0m\u001b[0msession\u001b[0m\u001b[0;34m)\u001b[0m\u001b[0;34m\u001b[0m\u001b[0;34m\u001b[0m\u001b[0m\n\u001b[0m\u001b[1;32m    266\u001b[0m \u001b[0;34m\u001b[0m\u001b[0m\n\u001b[1;32m    267\u001b[0m     def _command(\n",
      "\u001b[0;32m~/opt/anaconda3/lib/python3.9/site-packages/pymongo/mongo_client.py\u001b[0m in \u001b[0;36m_conn_for_writes\u001b[0;34m(self, session)\u001b[0m\n\u001b[1;32m   1305\u001b[0m \u001b[0;34m\u001b[0m\u001b[0m\n\u001b[1;32m   1306\u001b[0m     \u001b[0;32mdef\u001b[0m \u001b[0m_conn_for_writes\u001b[0m\u001b[0;34m(\u001b[0m\u001b[0mself\u001b[0m\u001b[0;34m,\u001b[0m \u001b[0msession\u001b[0m\u001b[0;34m:\u001b[0m \u001b[0mOptional\u001b[0m\u001b[0;34m[\u001b[0m\u001b[0mClientSession\u001b[0m\u001b[0;34m]\u001b[0m\u001b[0;34m)\u001b[0m \u001b[0;34m->\u001b[0m \u001b[0mContextManager\u001b[0m\u001b[0;34m[\u001b[0m\u001b[0mConnection\u001b[0m\u001b[0;34m]\u001b[0m\u001b[0;34m:\u001b[0m\u001b[0;34m\u001b[0m\u001b[0;34m\u001b[0m\u001b[0m\n\u001b[0;32m-> 1307\u001b[0;31m         \u001b[0mserver\u001b[0m \u001b[0;34m=\u001b[0m \u001b[0mself\u001b[0m\u001b[0;34m.\u001b[0m\u001b[0m_select_server\u001b[0m\u001b[0;34m(\u001b[0m\u001b[0mwritable_server_selector\u001b[0m\u001b[0;34m,\u001b[0m \u001b[0msession\u001b[0m\u001b[0;34m)\u001b[0m\u001b[0;34m\u001b[0m\u001b[0;34m\u001b[0m\u001b[0m\n\u001b[0m\u001b[1;32m   1308\u001b[0m         \u001b[0;32mreturn\u001b[0m \u001b[0mself\u001b[0m\u001b[0;34m.\u001b[0m\u001b[0m_checkout\u001b[0m\u001b[0;34m(\u001b[0m\u001b[0mserver\u001b[0m\u001b[0;34m,\u001b[0m \u001b[0msession\u001b[0m\u001b[0;34m)\u001b[0m\u001b[0;34m\u001b[0m\u001b[0;34m\u001b[0m\u001b[0m\n\u001b[1;32m   1309\u001b[0m \u001b[0;34m\u001b[0m\u001b[0m\n",
      "\u001b[0;32m~/opt/anaconda3/lib/python3.9/site-packages/pymongo/mongo_client.py\u001b[0m in \u001b[0;36m_select_server\u001b[0;34m(self, server_selector, session, address)\u001b[0m\n\u001b[1;32m   1295\u001b[0m                     \u001b[0;32mraise\u001b[0m \u001b[0mAutoReconnect\u001b[0m\u001b[0;34m(\u001b[0m\u001b[0;34m\"server %s:%s no longer available\"\u001b[0m \u001b[0;34m%\u001b[0m \u001b[0maddress\u001b[0m\u001b[0;34m)\u001b[0m\u001b[0;34m\u001b[0m\u001b[0;34m\u001b[0m\u001b[0m\n\u001b[1;32m   1296\u001b[0m             \u001b[0;32melse\u001b[0m\u001b[0;34m:\u001b[0m\u001b[0;34m\u001b[0m\u001b[0;34m\u001b[0m\u001b[0m\n\u001b[0;32m-> 1297\u001b[0;31m                 \u001b[0mserver\u001b[0m \u001b[0;34m=\u001b[0m \u001b[0mtopology\u001b[0m\u001b[0;34m.\u001b[0m\u001b[0mselect_server\u001b[0m\u001b[0;34m(\u001b[0m\u001b[0mserver_selector\u001b[0m\u001b[0;34m)\u001b[0m\u001b[0;34m\u001b[0m\u001b[0;34m\u001b[0m\u001b[0m\n\u001b[0m\u001b[1;32m   1298\u001b[0m             \u001b[0;32mreturn\u001b[0m \u001b[0mserver\u001b[0m\u001b[0;34m\u001b[0m\u001b[0;34m\u001b[0m\u001b[0m\n\u001b[1;32m   1299\u001b[0m         \u001b[0;32mexcept\u001b[0m \u001b[0mPyMongoError\u001b[0m \u001b[0;32mas\u001b[0m \u001b[0mexc\u001b[0m\u001b[0;34m:\u001b[0m\u001b[0;34m\u001b[0m\u001b[0;34m\u001b[0m\u001b[0m\n",
      "\u001b[0;32m~/opt/anaconda3/lib/python3.9/site-packages/pymongo/topology.py\u001b[0m in \u001b[0;36mselect_server\u001b[0;34m(self, selector, server_selection_timeout, address)\u001b[0m\n\u001b[1;32m    310\u001b[0m     ) -> Server:\n\u001b[1;32m    311\u001b[0m         \u001b[0;34m\"\"\"Like select_servers, but choose a random server if several match.\"\"\"\u001b[0m\u001b[0;34m\u001b[0m\u001b[0;34m\u001b[0m\u001b[0m\n\u001b[0;32m--> 312\u001b[0;31m         \u001b[0mserver\u001b[0m \u001b[0;34m=\u001b[0m \u001b[0mself\u001b[0m\u001b[0;34m.\u001b[0m\u001b[0m_select_server\u001b[0m\u001b[0;34m(\u001b[0m\u001b[0mselector\u001b[0m\u001b[0;34m,\u001b[0m \u001b[0mserver_selection_timeout\u001b[0m\u001b[0;34m,\u001b[0m \u001b[0maddress\u001b[0m\u001b[0;34m)\u001b[0m\u001b[0;34m\u001b[0m\u001b[0;34m\u001b[0m\u001b[0m\n\u001b[0m\u001b[1;32m    313\u001b[0m         \u001b[0;32mif\u001b[0m \u001b[0m_csot\u001b[0m\u001b[0;34m.\u001b[0m\u001b[0mget_timeout\u001b[0m\u001b[0;34m(\u001b[0m\u001b[0;34m)\u001b[0m\u001b[0;34m:\u001b[0m\u001b[0;34m\u001b[0m\u001b[0;34m\u001b[0m\u001b[0m\n\u001b[1;32m    314\u001b[0m             \u001b[0m_csot\u001b[0m\u001b[0;34m.\u001b[0m\u001b[0mset_rtt\u001b[0m\u001b[0;34m(\u001b[0m\u001b[0mserver\u001b[0m\u001b[0;34m.\u001b[0m\u001b[0mdescription\u001b[0m\u001b[0;34m.\u001b[0m\u001b[0mmin_round_trip_time\u001b[0m\u001b[0;34m)\u001b[0m\u001b[0;34m\u001b[0m\u001b[0;34m\u001b[0m\u001b[0m\n",
      "\u001b[0;32m~/opt/anaconda3/lib/python3.9/site-packages/pymongo/topology.py\u001b[0m in \u001b[0;36m_select_server\u001b[0;34m(self, selector, server_selection_timeout, address)\u001b[0m\n\u001b[1;32m    294\u001b[0m         \u001b[0maddress\u001b[0m\u001b[0;34m:\u001b[0m \u001b[0mOptional\u001b[0m\u001b[0;34m[\u001b[0m\u001b[0m_Address\u001b[0m\u001b[0;34m]\u001b[0m \u001b[0;34m=\u001b[0m \u001b[0;32mNone\u001b[0m\u001b[0;34m,\u001b[0m\u001b[0;34m\u001b[0m\u001b[0;34m\u001b[0m\u001b[0m\n\u001b[1;32m    295\u001b[0m     ) -> Server:\n\u001b[0;32m--> 296\u001b[0;31m         \u001b[0mservers\u001b[0m \u001b[0;34m=\u001b[0m \u001b[0mself\u001b[0m\u001b[0;34m.\u001b[0m\u001b[0mselect_servers\u001b[0m\u001b[0;34m(\u001b[0m\u001b[0mselector\u001b[0m\u001b[0;34m,\u001b[0m \u001b[0mserver_selection_timeout\u001b[0m\u001b[0;34m,\u001b[0m \u001b[0maddress\u001b[0m\u001b[0;34m)\u001b[0m\u001b[0;34m\u001b[0m\u001b[0;34m\u001b[0m\u001b[0m\n\u001b[0m\u001b[1;32m    297\u001b[0m         \u001b[0;32mif\u001b[0m \u001b[0mlen\u001b[0m\u001b[0;34m(\u001b[0m\u001b[0mservers\u001b[0m\u001b[0;34m)\u001b[0m \u001b[0;34m==\u001b[0m \u001b[0;36m1\u001b[0m\u001b[0;34m:\u001b[0m\u001b[0;34m\u001b[0m\u001b[0;34m\u001b[0m\u001b[0m\n\u001b[1;32m    298\u001b[0m             \u001b[0;32mreturn\u001b[0m \u001b[0mservers\u001b[0m\u001b[0;34m[\u001b[0m\u001b[0;36m0\u001b[0m\u001b[0;34m]\u001b[0m\u001b[0;34m\u001b[0m\u001b[0;34m\u001b[0m\u001b[0m\n",
      "\u001b[0;32m~/opt/anaconda3/lib/python3.9/site-packages/pymongo/topology.py\u001b[0m in \u001b[0;36mselect_servers\u001b[0;34m(self, selector, server_selection_timeout, address)\u001b[0m\n\u001b[1;32m    245\u001b[0m \u001b[0;34m\u001b[0m\u001b[0m\n\u001b[1;32m    246\u001b[0m         \u001b[0;32mwith\u001b[0m \u001b[0mself\u001b[0m\u001b[0;34m.\u001b[0m\u001b[0m_lock\u001b[0m\u001b[0;34m:\u001b[0m\u001b[0;34m\u001b[0m\u001b[0;34m\u001b[0m\u001b[0m\n\u001b[0;32m--> 247\u001b[0;31m             \u001b[0mserver_descriptions\u001b[0m \u001b[0;34m=\u001b[0m \u001b[0mself\u001b[0m\u001b[0;34m.\u001b[0m\u001b[0m_select_servers_loop\u001b[0m\u001b[0;34m(\u001b[0m\u001b[0mselector\u001b[0m\u001b[0;34m,\u001b[0m \u001b[0mserver_timeout\u001b[0m\u001b[0;34m,\u001b[0m \u001b[0maddress\u001b[0m\u001b[0;34m)\u001b[0m\u001b[0;34m\u001b[0m\u001b[0;34m\u001b[0m\u001b[0m\n\u001b[0m\u001b[1;32m    248\u001b[0m \u001b[0;34m\u001b[0m\u001b[0m\n\u001b[1;32m    249\u001b[0m             return [\n",
      "\u001b[0;32m~/opt/anaconda3/lib/python3.9/site-packages/pymongo/topology.py\u001b[0m in \u001b[0;36m_select_servers_loop\u001b[0;34m(self, selector, timeout, address)\u001b[0m\n\u001b[1;32m    267\u001b[0m             \u001b[0;31m# No suitable servers.\u001b[0m\u001b[0;34m\u001b[0m\u001b[0;34m\u001b[0m\u001b[0m\n\u001b[1;32m    268\u001b[0m             \u001b[0;32mif\u001b[0m \u001b[0mtimeout\u001b[0m \u001b[0;34m==\u001b[0m \u001b[0;36m0\u001b[0m \u001b[0;32mor\u001b[0m \u001b[0mnow\u001b[0m \u001b[0;34m>\u001b[0m \u001b[0mend_time\u001b[0m\u001b[0;34m:\u001b[0m\u001b[0;34m\u001b[0m\u001b[0;34m\u001b[0m\u001b[0m\n\u001b[0;32m--> 269\u001b[0;31m                 raise ServerSelectionTimeoutError(\n\u001b[0m\u001b[1;32m    270\u001b[0m                     \u001b[0;34mf\"{self._error_message(selector)}, Timeout: {timeout}s, Topology Description: {self.description!r}\"\u001b[0m\u001b[0;34m\u001b[0m\u001b[0;34m\u001b[0m\u001b[0m\n\u001b[1;32m    271\u001b[0m                 )\n",
      "\u001b[0;31mServerSelectionTimeoutError\u001b[0m: cluster0-shard-00-00.pnmkh.mongodb.net:27017: timed out,cluster0-shard-00-02.pnmkh.mongodb.net:27017: [Errno 60] Operation timed out,cluster0-shard-00-01.pnmkh.mongodb.net:27017: [Errno 60] Operation timed out, Timeout: 30s, Topology Description: <TopologyDescription id: 65e7d6686a27e14a0ad595d8, topology_type: ReplicaSetNoPrimary, servers: [<ServerDescription ('cluster0-shard-00-00.pnmkh.mongodb.net', 27017) server_type: Unknown, rtt: None, error=NetworkTimeout('cluster0-shard-00-00.pnmkh.mongodb.net:27017: timed out')>, <ServerDescription ('cluster0-shard-00-01.pnmkh.mongodb.net', 27017) server_type: Unknown, rtt: None, error=AutoReconnect('cluster0-shard-00-01.pnmkh.mongodb.net:27017: [Errno 60] Operation timed out')>, <ServerDescription ('cluster0-shard-00-02.pnmkh.mongodb.net', 27017) server_type: Unknown, rtt: None, error=AutoReconnect('cluster0-shard-00-02.pnmkh.mongodb.net:27017: [Errno 60] Operation timed out')>]>"
     ]
    }
   ],
   "source": [
    "from pymongo.errors import OperationFailure\n",
    "import inspect\n",
    "\n",
    "mongo_index_def = {\n",
    "    'name': 'rag_demo_index',\n",
    "    'definition': {\n",
    "      \"fields\": [\n",
    "        {\n",
    "          \"numDimensions\": 1536,\n",
    "          \"path\": \"embedding\",\n",
    "          \"similarity\": \"cosine\",\n",
    "          \"type\": \"vector\"\n",
    "        }\n",
    "      ]\n",
    "    }\n",
    "}\n",
    "\n",
    "try:\n",
    "    mongo_coll.create_search_index(mongo_index_def)\n",
    "    print('Search index is building')\n",
    "except OperationFailure as e:\n",
    "    print(e.details['codeName'])"
   ]
  },
  {
   "cell_type": "markdown",
   "id": "b687504a",
   "metadata": {
    "slideshow": {
     "slide_type": "slide"
    }
   },
   "source": [
    "# Create a LangChain handle for the vector search index"
   ]
  },
  {
   "cell_type": "code",
   "execution_count": 20,
   "id": "ddc9d39f-73d6-4916-8d2f-2d051e225834",
   "metadata": {
    "slideshow": {
     "slide_type": "fragment"
    }
   },
   "outputs": [],
   "source": [
    "vector_db = MongoDBAtlasVectorSearch.from_connection_string(\n",
    "    mongodb_uri_widget.value,\n",
    "    mongo_db_and_coll_path,\n",
    "    embeddings_model,\n",
    "    index_name='rag_demo_index'\n",
    ")"
   ]
  },
  {
   "cell_type": "markdown",
   "id": "98758bb4",
   "metadata": {
    "slideshow": {
     "slide_type": "slide"
    }
   },
   "source": [
    "# Setup question function"
   ]
  },
  {
   "cell_type": "code",
   "execution_count": 21,
   "id": "dc392dd9-a6e9-4359-ab6a-76b96b464c38",
   "metadata": {
    "slideshow": {
     "slide_type": "fragment"
    }
   },
   "outputs": [],
   "source": [
    "from langchain.chains import ConversationalRetrievalChain\n",
    "from langchain.schema.document import Document\n",
    "from langchain.chat_models import ChatOpenAI\n",
    "\n",
    "llm_model = ChatOpenAI(\n",
    "    model_name='gpt-3.5-turbo',\n",
    "    temperature=0.0,\n",
    "    openai_api_key=openai_api_key_widget.value\n",
    ")\n",
    "\n",
    "pdf_qa = ConversationalRetrievalChain.from_llm(\n",
    "    llm_model,\n",
    "    vector_db.as_retriever(),\n",
    "    return_source_documents=True\n",
    ")\n",
    "\n",
    "def ask_question(question):\n",
    "    result = pdf_qa({'question': 'Answer only if this information is available in the source document - ' + question, 'chat_history': []})\n",
    "    print(\"Answer:{}\\n\".format(result.get('answer')))\n",
    "    print('Chunks from Atlas Vector Search used for context:')\n",
    "    \n",
    "    for chunk in result.get('source_documents'):\n",
    "        id = chunk.metadata['_id']\n",
    "        page = chunk.metadata['page']\n",
    "        print('ObjectId({}) | page {:,}'.format(id, page))"
   ]
  },
  {
   "cell_type": "code",
   "execution_count": 22,
   "id": "8ba90311",
   "metadata": {
    "slideshow": {
     "slide_type": "skip"
    }
   },
   "outputs": [],
   "source": [
    "# from langchain.llms import OpenAI\n",
    "#\n",
    "# llm_model = OpenAI(\n",
    "#     model_name='text-davinci-003',\n",
    "#     temperature=0.0,\n",
    "#     openai_api_key=os.environ['OPENAI_API_KEY']\n",
    "# )\n",
    "\n",
    "# from langchain.chat_models import ChatOpenAI\n",
    "#\n",
    "# llm_model = ChatOpenAI(\n",
    "#     model_name='gpt-3.5-turbo',\n",
    "#     temperature=0.0,\n",
    "#     openai_api_key=os.environ['OPENAI_API_KEY']\n",
    "# )"
   ]
  },
  {
   "cell_type": "markdown",
   "id": "eb3718d4",
   "metadata": {
    "slideshow": {
     "slide_type": "slide"
    }
   },
   "source": [
    "# Start asking questions"
   ]
  },
  {
   "cell_type": "code",
   "execution_count": 23,
   "id": "66fa8a5e",
   "metadata": {
    "collapsed": true
   },
   "outputs": [
    {
     "name": "stdout",
     "output_type": "stream",
     "text": [
      "Answer:MongoDB is a general-purpose database that combines the best aspects of relational and NoSQL databases. It replaces the rigid tables of relational databases with flexible documents that can store data as JSON. This flexibility allows developers to be more productive and build applications faster. MongoDB is used because it enables organizations to meet the demands of modern applications by providing a technology foundation that aligns with the way developers think and code. It allows for easy modification of data structures, supports various data types, and offers features like schema validation and clustered indexing for efficient data storage and querying.\n",
      "\n",
      "Chunks from Atlas Vector Search used for context:\n",
      "ObjectId(65e880ee6d99efb760ca2c04) | page 1\n",
      "ObjectId(65e880ee6d99efb760ca2c05) | page 2\n",
      "ObjectId(65e880ee6d99efb760ca2c03) | page 0\n",
      "ObjectId(65e880ee6d99efb760ca2c07) | page 4\n"
     ]
    }
   ],
   "source": [
    "ask_question(\"What is MongoDB and why is it used?\")"
   ]
  },
  {
   "cell_type": "code",
   "execution_count": 35,
   "id": "3d458db5",
   "metadata": {
    "collapsed": true,
    "slideshow": {
     "slide_type": "fragment"
    }
   },
   "outputs": [
    {
     "name": "stdout",
     "output_type": "stream",
     "text": [
      "Answer:Based on the provided information from the MongoDB Architecture Guide, some basic principles behind MongoDB's architecture include:\n",
      "\n",
      "1. **Flexible Schema**: MongoDB allows for a dynamic and self-describing schema, where fields can vary from document to document. This flexibility enables developers to continuously integrate new application functionality without the need for disruptive schema migrations. Changes to the data model can be made without costly operations like \"ALTER TABLE,\" making it easier to manage schema changes across multiple teams.\n",
      "\n",
      "2. **Universal JSON Documents**: MongoDB stores data as JSON documents in a binary representation called BSON (Binary JSON). This format allows for a wide range of data structures, including rich objects, key-value pairs, tables, geospatial and time series data, and graph nodes and edges. The BSON encoding extends the JSON representation to include additional types like int, long, date, floating point, and decimal128, making data processing, sorting, and comparison more reliable.\n",
      "\n",
      "These principles highlight MongoDB's focus on providing a flexible and versatile architecture that can adapt to changing application needs and support various types of data structures efficiently.\n",
      "\n",
      "Chunks from Atlas Vector Search used for context:\n",
      "ObjectId(65e86146fea4d903e938e73e) | page 0\n",
      "ObjectId(65e86146fea4d903e938e73f) | page 1\n",
      "ObjectId(65e86146fea4d903e938e74f) | page 17\n",
      "ObjectId(65e86146fea4d903e938e742) | page 4\n"
     ]
    }
   ],
   "source": [
    "ask_question(\"Explain the basic principles behind MongoDB's architecture?\")"
   ]
  },
  {
   "cell_type": "code",
   "execution_count": 36,
   "id": "c162a4ab",
   "metadata": {
    "collapsed": true
   },
   "outputs": [
    {
     "name": "stdout",
     "output_type": "stream",
     "text": [
      "Answer:I don't have that information available in the provided document.\n",
      "\n",
      "Chunks from Atlas Vector Search used for context:\n",
      "ObjectId(65e86146fea4d903e938e73f) | page 1\n",
      "ObjectId(65e86146fea4d903e938e749) | page 11\n",
      "ObjectId(65e86146fea4d903e938e74d) | page 15\n",
      "ObjectId(65e86146fea4d903e938e74f) | page 17\n"
     ]
    }
   ],
   "source": [
    "ask_question(\"What are the requirements to open an account with Ally Bank?\")"
   ]
  },
  {
   "cell_type": "code",
   "execution_count": 24,
   "id": "74a35606",
   "metadata": {
    "collapsed": true,
    "slideshow": {
     "slide_type": "skip"
    }
   },
   "outputs": [
    {
     "name": "stdout",
     "output_type": "stream",
     "text": [
      "Atlas Vector Search roundtrip took 261 ms\n"
     ]
    },
    {
     "data": {
      "text/plain": [
       "[{'_id': ObjectId('65e880ee6d99efb760ca2c08'), 'page': 5},\n",
       " {'_id': ObjectId('65e880ee6d99efb760ca2c11'), 'page': 14},\n",
       " {'_id': ObjectId('65e880ee6d99efb760ca2c04'), 'page': 1},\n",
       " {'_id': ObjectId('65e880ee6d99efb760ca2c0b'), 'page': 8}]"
      ]
     },
     "execution_count": 24,
     "metadata": {},
     "output_type": "execute_result"
    }
   ],
   "source": [
    "# Use this cell to show that the majority of time spent waiting is due to the LLM, not Atlas Vector Search\n",
    "\n",
    "import time\n",
    "\n",
    "search_vector = embeddings_model.embed_query(\"How should I optimize query performance?\")\n",
    "\n",
    "before_time = time.perf_counter()\n",
    "cursor = mongo_coll.aggregate([\n",
    "    {\n",
    "        \"$vectorSearch\": {\n",
    "            \"index\": \"rag_demo_index\",\n",
    "            \"path\": \"embedding\",\n",
    "            \"queryVector\": search_vector,\n",
    "            \"numCandidates\": 100,\n",
    "            \"limit\": 4\n",
    "        }\n",
    "    },\n",
    "    {\n",
    "        \"$project\": {\n",
    "            \"_id\": 1,\n",
    "            \"page\": 1,\n",
    "        }\n",
    "    }\n",
    "])\n",
    "vector_search_ms = int((time.perf_counter() - before_time) * 1_000)\n",
    "print('Atlas Vector Search roundtrip took {} ms'.format(vector_search_ms))\n",
    "list(cursor)"
   ]
  },
  {
   "cell_type": "code",
   "execution_count": null,
   "id": "b8bbe359",
   "metadata": {},
   "outputs": [],
   "source": []
  }
 ],
 "metadata": {
  "celltoolbar": "Slideshow",
  "kernelspec": {
   "display_name": "Python 3 (ipykernel)",
   "language": "python",
   "name": "python3"
  },
  "language_info": {
   "codemirror_mode": {
    "name": "ipython",
    "version": 3
   },
   "file_extension": ".py",
   "mimetype": "text/x-python",
   "name": "python",
   "nbconvert_exporter": "python",
   "pygments_lexer": "ipython3",
   "version": "3.9.13"
  },
  "rise": {
   "controls": false,
   "footer": "<img class=\"logomark\" src=\"rise/MongoDB_Logomark_ForestGreen.svg\" />",
   "scroll": true,
   "slideNumber": "c/t"
  }
 },
 "nbformat": 4,
 "nbformat_minor": 5
}
