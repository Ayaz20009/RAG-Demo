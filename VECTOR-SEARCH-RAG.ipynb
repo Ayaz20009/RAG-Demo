{
 "cells": [
  {
   "cell_type": "markdown",
   "id": "b5032137",
   "metadata": {
    "slideshow": {
     "slide_type": "skip"
    }
   },
   "source": [
    "<img src=\"https://cdn-assets-cloud.frontify.com/local/frontify/eyJwYXRoIjoiXC9wdWJsaWNcL3VwbG9hZFwvc2NyZWVuc1wvMTk3OTA0XC80M2ZmNTdhYjc4OTdlZjUzY2IzMWUwNGU0MTVjZTY2NC0xNTYyMTAzMDk0LnBuZyJ9:frontify:7CTV2DtJsWvlctEUEyFK36JoXsZuVtHssMaDED6O5z0\" width='150' />\n",
    "\n",
    "# VECTOR SEARCH - RETRIEVAL AUGMENTED GENERATION\n",
    "\n",
    "__How to use this notebook__\n",
    "\n",
    "1. Run the code cell below and paste the following into the password widgets:\n",
    "    1. Your Atlas cluster URI (w/ read/write permissions)\n",
    "    1. Your OpenAI API key (used to create embeddings and pose questions to an LLM)\n",
    "1. If desired, use a custom PDF URL and ask custom questions at the end\n",
    "1. Present the notebook via the \"Enter/Exit RISE Slideshow\" toolbar button (looks like a bar chart)\n",
    "    1. Put your browser into full-screen mode for best results\n",
    "    1. To advance a cell without executing, use \"Space\"\n",
    "    1. To execute the current cell, use \"Shift-Enter\""
   ]
  },
  {
   "cell_type": "code",
   "execution_count": 4,
   "id": "ef810b58",
   "metadata": {
    "slideshow": {
     "slide_type": "skip"
    }
   },
   "outputs": [
    {
     "ename": "ModuleNotFoundError",
     "evalue": "No module named 'ipywidgets'",
     "output_type": "error",
     "traceback": [
      "\u001b[0;31m---------------------------------------------------------------------------\u001b[0m",
      "\u001b[0;31mModuleNotFoundError\u001b[0m                       Traceback (most recent call last)",
      "Cell \u001b[0;32mIn[4], line 1\u001b[0m\n\u001b[0;32m----> 1\u001b[0m \u001b[38;5;28;01mimport\u001b[39;00m \u001b[38;5;21;01mipywidgets\u001b[39;00m \u001b[38;5;28;01mas\u001b[39;00m \u001b[38;5;21;01mwidgets\u001b[39;00m\n\u001b[1;32m      2\u001b[0m \u001b[38;5;28;01mimport\u001b[39;00m \u001b[38;5;21;01mos\u001b[39;00m\n\u001b[1;32m      4\u001b[0m mongodb_uri_widget \u001b[38;5;241m=\u001b[39m widgets\u001b[38;5;241m.\u001b[39mPassword(\n\u001b[1;32m      5\u001b[0m     description\u001b[38;5;241m=\u001b[39m\u001b[38;5;124m'\u001b[39m\u001b[38;5;124mYour Atlas URI:\u001b[39m\u001b[38;5;124m'\u001b[39m,\n\u001b[1;32m      6\u001b[0m     disabled\u001b[38;5;241m=\u001b[39m\u001b[38;5;28;01mFalse\u001b[39;00m,\n\u001b[1;32m      7\u001b[0m     style\u001b[38;5;241m=\u001b[39m\u001b[38;5;28mdict\u001b[39m(description_width\u001b[38;5;241m=\u001b[39m\u001b[38;5;124m'\u001b[39m\u001b[38;5;124m125px\u001b[39m\u001b[38;5;124m'\u001b[39m)\n\u001b[1;32m      8\u001b[0m )\n",
      "\u001b[0;31mModuleNotFoundError\u001b[0m: No module named 'ipywidgets'"
     ]
    }
   ],
   "source": [
    "import ipywidgets as widgets\n",
    "import os\n",
    "\n",
    "mongodb_uri_widget = widgets.Password(\n",
    "    description='Your Atlas URI:',\n",
    "    disabled=False,\n",
    "    style=dict(description_width='125px')\n",
    ")\n",
    "\n",
    "openai_api_key_widget = widgets.Password(\n",
    "    description='Your OpenAI API key:',\n",
    "    disabled=False,\n",
    "    style=dict(description_width='125px')\n",
    ")\n",
    "\n",
    "display(mongodb_uri_widget)\n",
    "display(openai_api_key_widget)"
   ]
  },
  {
   "cell_type": "markdown",
   "id": "b6c3bdf5",
   "metadata": {
    "slideshow": {
     "slide_type": "slide"
    }
   },
   "source": [
    "# Retrieval Augmented Generation\n",
    "### Using MongoDB Atlas, OpenAI and LangChain"
   ]
  },
  {
   "cell_type": "code",
   "execution_count": 145,
   "id": "88ce891f",
   "metadata": {
    "slideshow": {
     "slide_type": "fragment"
    }
   },
   "outputs": [
    {
     "data": {
      "text/html": [
       "\n",
       "        <iframe\n",
       "            width=\"1280\"\n",
       "            height=\"500\"\n",
       "            src=\"https://rcg-demo1.s3.amazonaws.com/Top+Things+to+Do+at+Perfect+Day+at+Cococay+_+Royal+Caribbean+Cruises.pdf\"\n",
       "            frameborder=\"0\"\n",
       "            allowfullscreen\n",
       "            \n",
       "        ></iframe>\n",
       "        "
      ],
      "text/plain": [
       "<IPython.lib.display.IFrame at 0x7fb917650d00>"
      ]
     },
     "execution_count": 145,
     "metadata": {},
     "output_type": "execute_result"
    }
   ],
   "source": [
    "from IPython.display import IFrame\n",
    "\n",
    "PDF_URI = \"https://rcg-demo1.s3.amazonaws.com/Top+Things+to+Do+at+Perfect+Day+at+Cococay+_+Royal+Caribbean+Cruises.pdf\"\n",
    "IFrame(PDF_URI, width=1280, height=500)"
   ]
  },
  {
   "cell_type": "markdown",
   "id": "7fffd967",
   "metadata": {
    "slideshow": {
     "slide_type": "slide"
    }
   },
   "source": [
    "# Get connection to MongoDB Atlas"
   ]
  },
  {
   "cell_type": "code",
   "execution_count": 156,
   "id": "e99c8377-2475-4e5d-b94a-b4e80bc8ce87",
   "metadata": {
    "slideshow": {
     "slide_type": "fragment"
    }
   },
   "outputs": [
    {
     "data": {
      "text/plain": [
       "'rag_demo.content document count is 22'"
      ]
     },
     "execution_count": 156,
     "metadata": {},
     "output_type": "execute_result"
    }
   ],
   "source": [
    "from pymongo import MongoClient\n",
    "import os\n",
    "\n",
    "mongo_db_name = 'rag_demo'\n",
    "mongo_coll_name = 'content'\n",
    "\n",
    "mongo_client = MongoClient(mongodb_uri_widget.value)\n",
    "mongo_coll = mongo_client[mongo_db_name][mongo_coll_name]\n",
    "mongo_db_and_coll_path = '{}.{}'.format(mongo_db_name, mongo_coll_name)\n",
    "\n",
    "doc_count = mongo_coll.count_documents({})\n",
    "'{} document count is {:,}'.format(mongo_db_and_coll_path, doc_count)"
   ]
  },
  {
   "cell_type": "code",
   "execution_count": 157,
   "id": "a9933ee6",
   "metadata": {
    "slideshow": {
     "slide_type": "skip"
    }
   },
   "outputs": [
    {
     "data": {
      "text/plain": [
       "<pymongo.results.DeleteResult at 0x7fb9175dfd90>"
      ]
     },
     "execution_count": 157,
     "metadata": {},
     "output_type": "execute_result"
    }
   ],
   "source": [
    "# Delete existing documents -- run before demo\n",
    "mongo_coll.delete_many({})"
   ]
  },
  {
   "cell_type": "markdown",
   "id": "1cdf4297",
   "metadata": {
    "slideshow": {
     "slide_type": "slide"
    }
   },
   "source": [
    "# Select embeddings/transformer model"
   ]
  },
  {
   "cell_type": "code",
   "execution_count": 158,
   "id": "1fc7b0b4-19c9-4965-8491-dcda400e32e3",
   "metadata": {
    "slideshow": {
     "slide_type": "fragment"
    }
   },
   "outputs": [
    {
     "name": "stdout",
     "output_type": "stream",
     "text": [
      "Max token length is 8,191\n"
     ]
    }
   ],
   "source": [
    "from langchain.embeddings import OpenAIEmbeddings\n",
    "\n",
    "embeddings_model = OpenAIEmbeddings(\n",
    "    model='text-embedding-ada-002',\n",
    "    openai_api_key=openai_api_key_widget.value\n",
    ")\n",
    "\n",
    "print('Max token length is 8,191')"
   ]
  },
  {
   "cell_type": "markdown",
   "id": "f344cf95",
   "metadata": {
    "slideshow": {
     "slide_type": "slide"
    }
   },
   "source": [
    "# Split PDF into chunks"
   ]
  },
  {
   "cell_type": "code",
   "execution_count": 159,
   "id": "a1008c71-2762-4162-852f-b351bff1a6dc",
   "metadata": {
    "slideshow": {
     "slide_type": "fragment"
    }
   },
   "outputs": [
    {
     "data": {
      "text/plain": [
       "'PDF has resulted in 22 chunks'"
      ]
     },
     "execution_count": 159,
     "metadata": {},
     "output_type": "execute_result"
    }
   ],
   "source": [
    "from langchain.document_loaders import PyPDFLoader\n",
    "\n",
    "loader = PyPDFLoader(PDF_URI)\n",
    "chunked_docs = loader.load_and_split()\n",
    "\n",
    "'PDF has resulted in {:,} chunks'.format(len(chunked_docs))"
   ]
  },
  {
   "cell_type": "code",
   "execution_count": 160,
   "id": "c716f036",
   "metadata": {
    "slideshow": {
     "slide_type": "fragment"
    }
   },
   "outputs": [
    {
     "data": {
      "text/plain": [
       "'The biggest chunk contains 180 words'"
      ]
     },
     "execution_count": 160,
     "metadata": {},
     "output_type": "execute_result"
    }
   ],
   "source": [
    "biggest_chunk_length = max(len(chunk.page_content.split()) for chunk in chunked_docs)\n",
    "'The biggest chunk contains {:,} words'.format(biggest_chunk_length)"
   ]
  },
  {
   "cell_type": "markdown",
   "id": "998a216a",
   "metadata": {
    "slideshow": {
     "slide_type": "slide"
    }
   },
   "source": [
    "# Create vectors and add to MongoDB Atlas"
   ]
  },
  {
   "cell_type": "code",
   "execution_count": 161,
   "id": "339402be",
   "metadata": {
    "slideshow": {
     "slide_type": "fragment"
    }
   },
   "outputs": [],
   "source": [
    "from langchain.vectorstores import MongoDBAtlasVectorSearch\n",
    "\n",
    "vector_db = MongoDBAtlasVectorSearch.from_documents(\n",
    "    chunked_docs,\n",
    "    embeddings_model,\n",
    "    collection=mongo_coll\n",
    ")"
   ]
  },
  {
   "cell_type": "code",
   "execution_count": 162,
   "id": "fdb1bf89",
   "metadata": {
    "slideshow": {
     "slide_type": "fragment"
    }
   },
   "outputs": [
    {
     "data": {
      "text/plain": [
       "'MongoDB document count in rag_demo.content is 22'"
      ]
     },
     "execution_count": 162,
     "metadata": {},
     "output_type": "execute_result"
    }
   ],
   "source": [
    "doc_count = mongo_coll.count_documents({})\n",
    "'MongoDB document count in {} is {:,}'.format(mongo_db_and_coll_path, doc_count)"
   ]
  },
  {
   "cell_type": "markdown",
   "id": "aa68054b",
   "metadata": {
    "slideshow": {
     "slide_type": "slide"
    }
   },
   "source": [
    "# Create MongoDB Atlas vector search index"
   ]
  },
  {
   "cell_type": "code",
   "execution_count": 94,
   "id": "e6448a3d-424b-4e09-bed9-ce59839ba76f",
   "metadata": {
    "collapsed": true,
    "slideshow": {
     "slide_type": "fragment"
    }
   },
   "outputs": [
    {
     "ename": "TypeError",
     "evalue": "'Collection' object is not callable. If you meant to call the 'create_search_index' method on a 'Collection' object it is failing because no such method exists.",
     "output_type": "error",
     "traceback": [
      "\u001b[0;31m---------------------------------------------------------------------------\u001b[0m",
      "\u001b[0;31mTypeError\u001b[0m                                 Traceback (most recent call last)",
      "\u001b[0;32m/var/folders/08/q0gyyp6s6p54f2wxtd6rrgn40000gp/T/ipykernel_86745/3901509648.py\u001b[0m in \u001b[0;36m<module>\u001b[0;34m\u001b[0m\n\u001b[1;32m     19\u001b[0m \u001b[0;34m\u001b[0m\u001b[0m\n\u001b[1;32m     20\u001b[0m \u001b[0;32mtry\u001b[0m\u001b[0;34m:\u001b[0m\u001b[0;34m\u001b[0m\u001b[0;34m\u001b[0m\u001b[0m\n\u001b[0;32m---> 21\u001b[0;31m     \u001b[0mmongo_coll\u001b[0m\u001b[0;34m.\u001b[0m\u001b[0mcreate_search_index\u001b[0m\u001b[0;34m(\u001b[0m\u001b[0mmongo_index_def\u001b[0m\u001b[0;34m)\u001b[0m\u001b[0;34m\u001b[0m\u001b[0;34m\u001b[0m\u001b[0m\n\u001b[0m\u001b[1;32m     22\u001b[0m     \u001b[0mprint\u001b[0m\u001b[0;34m(\u001b[0m\u001b[0;34m'Search index is building'\u001b[0m\u001b[0;34m)\u001b[0m\u001b[0;34m\u001b[0m\u001b[0;34m\u001b[0m\u001b[0m\n\u001b[1;32m     23\u001b[0m \u001b[0;32mexcept\u001b[0m \u001b[0mOperationFailure\u001b[0m \u001b[0;32mas\u001b[0m \u001b[0me\u001b[0m\u001b[0;34m:\u001b[0m\u001b[0;34m\u001b[0m\u001b[0;34m\u001b[0m\u001b[0m\n",
      "\u001b[0;32m~/opt/anaconda3/lib/python3.9/site-packages/pymongo/collection.py\u001b[0m in \u001b[0;36m__call__\u001b[0;34m(self, *args, **kwargs)\u001b[0m\n\u001b[1;32m   3204\u001b[0m                 \u001b[0;34m\"exists.\"\u001b[0m \u001b[0;34m%\u001b[0m \u001b[0mself\u001b[0m\u001b[0;34m.\u001b[0m\u001b[0m__name\u001b[0m\u001b[0;34m\u001b[0m\u001b[0;34m\u001b[0m\u001b[0m\n\u001b[1;32m   3205\u001b[0m             )\n\u001b[0;32m-> 3206\u001b[0;31m         raise TypeError(\n\u001b[0m\u001b[1;32m   3207\u001b[0m             \u001b[0;34m\"'Collection' object is not callable. If you meant to \"\u001b[0m\u001b[0;34m\u001b[0m\u001b[0;34m\u001b[0m\u001b[0m\n\u001b[1;32m   3208\u001b[0m             \u001b[0;34m\"call the '%s' method on a 'Collection' object it is \"\u001b[0m\u001b[0;34m\u001b[0m\u001b[0;34m\u001b[0m\u001b[0m\n",
      "\u001b[0;31mTypeError\u001b[0m: 'Collection' object is not callable. If you meant to call the 'create_search_index' method on a 'Collection' object it is failing because no such method exists."
     ]
    }
   ],
   "source": [
    "from pymongo.errors import OperationFailure\n",
    "import inspect\n",
    "\n",
    "mongo_index_def = {\n",
    "    'name': 'rag_demo_index',\n",
    "    'definition': {\n",
    "        'mappings': {\n",
    "            'dynamic': True,\n",
    "            'fields': {\n",
    "                'embedding': {\n",
    "                    'type': 'knnVector',\n",
    "                    'dimensions': 1536,\n",
    "                    'similarity': 'cosine'\n",
    "                }\n",
    "            }\n",
    "        }\n",
    "    }\n",
    "}\n",
    "\n",
    "try:\n",
    "    mongo_coll.create_search_index(mongo_index_def)\n",
    "    print('Search index is building')\n",
    "except OperationFailure as e:\n",
    "    print(e.details['codeName'])"
   ]
  },
  {
   "cell_type": "markdown",
   "id": "b687504a",
   "metadata": {
    "slideshow": {
     "slide_type": "slide"
    }
   },
   "source": [
    "# Create a LangChain handle for the vector search index"
   ]
  },
  {
   "cell_type": "code",
   "execution_count": 163,
   "id": "ddc9d39f-73d6-4916-8d2f-2d051e225834",
   "metadata": {
    "slideshow": {
     "slide_type": "fragment"
    }
   },
   "outputs": [],
   "source": [
    "vector_db = MongoDBAtlasVectorSearch.from_connection_string(\n",
    "    mongodb_uri_widget.value,\n",
    "    mongo_db_and_coll_path,\n",
    "    embeddings_model,\n",
    "    index_name='rag_demo_index'\n",
    ")"
   ]
  },
  {
   "cell_type": "markdown",
   "id": "98758bb4",
   "metadata": {
    "slideshow": {
     "slide_type": "slide"
    }
   },
   "source": [
    "# Setup question function"
   ]
  },
  {
   "cell_type": "code",
   "execution_count": 164,
   "id": "dc392dd9-a6e9-4359-ab6a-76b96b464c38",
   "metadata": {
    "slideshow": {
     "slide_type": "fragment"
    }
   },
   "outputs": [],
   "source": [
    "from langchain.chains import ConversationalRetrievalChain\n",
    "from langchain.schema.document import Document\n",
    "from langchain.chat_models import ChatOpenAI\n",
    "\n",
    "llm_model = ChatOpenAI(\n",
    "    model_name='gpt-3.5-turbo',\n",
    "    temperature=0.0,\n",
    "    openai_api_key=openai_api_key_widget.value\n",
    ")\n",
    "\n",
    "pdf_qa = ConversationalRetrievalChain.from_llm(\n",
    "    llm_model,\n",
    "    vector_db.as_retriever(),\n",
    "    return_source_documents=True\n",
    ")\n",
    "\n",
    "def ask_question(question):\n",
    "    result = pdf_qa({'question': 'Answer only if this information is available in the source document - ' + question, 'chat_history': []})\n",
    "    print(\"Answer:{}\\n\".format(result.get('answer')))\n",
    "    print('Chunks from Atlas Vector Search used for context:')\n",
    "    \n",
    "    for chunk in result.get('source_documents'):\n",
    "        id = chunk.metadata['_id']\n",
    "        page = chunk.metadata['page']\n",
    "        print('ObjectId({}) | page {:,}'.format(id, page))"
   ]
  },
  {
   "cell_type": "code",
   "execution_count": 109,
   "id": "8ba90311",
   "metadata": {
    "slideshow": {
     "slide_type": "skip"
    }
   },
   "outputs": [],
   "source": [
    "# from langchain.llms import OpenAI\n",
    "#\n",
    "# llm_model = OpenAI(\n",
    "#     model_name='text-davinci-003',\n",
    "#     temperature=0.0,\n",
    "#     openai_api_key=os.environ['OPENAI_API_KEY']\n",
    "# )\n",
    "\n",
    "# from langchain.chat_models import ChatOpenAI\n",
    "#\n",
    "# llm_model = ChatOpenAI(\n",
    "#     model_name='gpt-3.5-turbo',\n",
    "#     temperature=0.0,\n",
    "#     openai_api_key=os.environ['OPENAI_API_KEY']\n",
    "# )"
   ]
  },
  {
   "cell_type": "markdown",
   "id": "eb3718d4",
   "metadata": {
    "slideshow": {
     "slide_type": "slide"
    }
   },
   "source": [
    "# Start asking questions"
   ]
  },
  {
   "cell_type": "code",
   "execution_count": 165,
   "id": "66fa8a5e",
   "metadata": {},
   "outputs": [
    {
     "name": "stdout",
     "output_type": "stream",
     "text": [
      "Answer:Cococay is an island destination in The Bahamas that is owned and operated by Royal Caribbean Cruises. It is a private island exclusively for Royal Caribbean guests and offers a variety of attractions, amenities, and activities for visitors to enjoy.\n",
      "\n",
      "Chunks from Atlas Vector Search used for context:\n",
      "ObjectId(6568f41acee9d4567406c437) | page 10\n",
      "ObjectId(6568f41acee9d4567406c441) | page 20\n",
      "ObjectId(6568f41acee9d4567406c440) | page 19\n",
      "ObjectId(6568f41acee9d4567406c442) | page 21\n"
     ]
    }
   ],
   "source": [
    "ask_question(\"What is Cococay?\")"
   ]
  },
  {
   "cell_type": "code",
   "execution_count": 166,
   "id": "3d458db5",
   "metadata": {
    "slideshow": {
     "slide_type": "fragment"
    }
   },
   "outputs": [
    {
     "name": "stdout",
     "output_type": "stream",
     "text": [
      "Answer:The source document mentions that Perfect Day at CocoCay is considered one of the best family-friendly cruise destinations. It offers many activities and attractions that both kids and adults can enjoy together. Some of the family activities mentioned include volleyball, beachside basketball, snorkeling, paddleboarding, and even ping-pong at South Beach. Additionally, there are complimentary access, amenities, and activities at attractions like Oasis Lagoon, Chill Island, and South Beach.\n",
      "\n",
      "Chunks from Atlas Vector Search used for context:\n",
      "ObjectId(6568f41acee9d4567406c437) | page 10\n",
      "ObjectId(6568f41acee9d4567406c432) | page 5\n",
      "ObjectId(6568f41acee9d4567406c433) | page 6\n",
      "ObjectId(6568f41acee9d4567406c42d) | page 0\n"
     ]
    }
   ],
   "source": [
    "ask_question(\"Tell me all the family activities we can do at COCOCAY?\")"
   ]
  },
  {
   "cell_type": "code",
   "execution_count": 167,
   "id": "c162a4ab",
   "metadata": {},
   "outputs": [
    {
     "name": "stdout",
     "output_type": "stream",
     "text": [
      "Answer:The source document does not provide information about what MongoDB is.\n",
      "\n",
      "Chunks from Atlas Vector Search used for context:\n",
      "ObjectId(6568f41acee9d4567406c442) | page 21\n",
      "ObjectId(6568f41acee9d4567406c437) | page 10\n",
      "ObjectId(6568f41acee9d4567406c441) | page 20\n",
      "ObjectId(6568f41acee9d4567406c440) | page 19\n"
     ]
    }
   ],
   "source": [
    "ask_question(\"What is MongoDB\")"
   ]
  },
  {
   "cell_type": "code",
   "execution_count": 168,
   "id": "74a35606",
   "metadata": {
    "slideshow": {
     "slide_type": "skip"
    }
   },
   "outputs": [
    {
     "name": "stdout",
     "output_type": "stream",
     "text": [
      "Atlas Vector Search roundtrip took 25 ms\n"
     ]
    },
    {
     "data": {
      "text/plain": [
       "[{'_id': ObjectId('6568f41acee9d4567406c437'), 'page': 10},\n",
       " {'_id': ObjectId('6568f41acee9d4567406c441'), 'page': 20},\n",
       " {'_id': ObjectId('6568f41acee9d4567406c434'), 'page': 7},\n",
       " {'_id': ObjectId('6568f41acee9d4567406c435'), 'page': 8}]"
      ]
     },
     "execution_count": 168,
     "metadata": {},
     "output_type": "execute_result"
    }
   ],
   "source": [
    "# Use this cell to show that the majority of time spent waiting is due to the LLM, not Atlas Vector Search\n",
    "\n",
    "import time\n",
    "\n",
    "search_vector = embeddings_model.embed_query(\"How should I optimize query performance?\")\n",
    "\n",
    "before_time = time.perf_counter()\n",
    "cursor = mongo_coll.aggregate([\n",
    "    {\n",
    "        \"$vectorSearch\": {\n",
    "            \"index\": \"rag_demo_index\",\n",
    "            \"path\": \"embedding\",\n",
    "            \"queryVector\": search_vector,\n",
    "            \"numCandidates\": 100,\n",
    "            \"limit\": 4\n",
    "        }\n",
    "    },\n",
    "    {\n",
    "        \"$project\": {\n",
    "            \"_id\": 1,\n",
    "            \"page\": 1,\n",
    "        }\n",
    "    }\n",
    "])\n",
    "vector_search_ms = int((time.perf_counter() - before_time) * 1_000)\n",
    "print('Atlas Vector Search roundtrip took {} ms'.format(vector_search_ms))\n",
    "list(cursor)"
   ]
  },
  {
   "cell_type": "code",
   "execution_count": null,
   "id": "b8bbe359",
   "metadata": {},
   "outputs": [],
   "source": []
  }
 ],
 "metadata": {
  "celltoolbar": "Slideshow",
  "kernelspec": {
   "display_name": "Python 3 (ipykernel)",
   "language": "python",
   "name": "python3"
  },
  "language_info": {
   "codemirror_mode": {
    "name": "ipython",
    "version": 3
   },
   "file_extension": ".py",
   "mimetype": "text/x-python",
   "name": "python",
   "nbconvert_exporter": "python",
   "pygments_lexer": "ipython3",
   "version": "3.10.5"
  },
  "rise": {
   "controls": false,
   "footer": "<img class=\"logomark\" src=\"rise/MongoDB_Logomark_ForestGreen.svg\" />",
   "scroll": true,
   "slideNumber": "c/t"
  }
 },
 "nbformat": 4,
 "nbformat_minor": 5
}
