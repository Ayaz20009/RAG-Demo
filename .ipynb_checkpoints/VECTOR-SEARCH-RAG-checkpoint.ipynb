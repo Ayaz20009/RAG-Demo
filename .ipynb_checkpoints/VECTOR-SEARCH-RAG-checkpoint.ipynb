{
 "cells": [
  {
   "cell_type": "markdown",
   "id": "b5032137",
   "metadata": {
    "slideshow": {
     "slide_type": "skip"
    }
   },
   "source": [
    "<img src=\"https://cdn-assets-cloud.frontify.com/local/frontify/eyJwYXRoIjoiXC9wdWJsaWNcL3VwbG9hZFwvc2NyZWVuc1wvMTk3OTA0XC80M2ZmNTdhYjc4OTdlZjUzY2IzMWUwNGU0MTVjZTY2NC0xNTYyMTAzMDk0LnBuZyJ9:frontify:7CTV2DtJsWvlctEUEyFK36JoXsZuVtHssMaDED6O5z0\" width='150' />\n",
    "\n",
    "# VECTOR SEARCH - RETRIEVAL AUGMENTED GENERATION\n",
    "\n",
    "__How to use this notebook__\n",
    "\n",
    "1. Run the code cell below and paste the following into the password widgets:\n",
    "    1. Your Atlas cluster URI (w/ read/write permissions)\n",
    "    1. Your OpenAI API key (used to create embeddings and pose questions to an LLM)\n",
    "1. If desired, use a custom PDF URL and ask custom questions at the end\n",
    "1. Present the notebook via the \"Enter/Exit RISE Slideshow\" toolbar button (looks like a bar chart)\n",
    "    1. Put your browser into full-screen mode for best results\n",
    "    1. To advance a cell without executing, use \"Space\"\n",
    "    1. To execute the current cell, use \"Shift-Enter\""
   ]
  },
  {
   "cell_type": "code",
   "execution_count": 4,
   "id": "ef810b58",
   "metadata": {
    "slideshow": {
     "slide_type": "skip"
    }
   },
   "outputs": [
    {
     "data": {
      "application/vnd.jupyter.widget-view+json": {
       "model_id": "d895435a353344b5921bb9896ac3da34",
       "version_major": 2,
       "version_minor": 0
      },
      "text/plain": [
       "Password(description='Your Atlas URI:', style=DescriptionStyle(description_width='125px'))"
      ]
     },
     "metadata": {},
     "output_type": "display_data"
    },
    {
     "data": {
      "application/vnd.jupyter.widget-view+json": {
       "model_id": "0c9fb121447e4e06902d85806803882f",
       "version_major": 2,
       "version_minor": 0
      },
      "text/plain": [
       "Password(description='Your OpenAI API key:', style=DescriptionStyle(description_width='125px'))"
      ]
     },
     "metadata": {},
     "output_type": "display_data"
    }
   ],
   "source": [
    "import ipywidgets as widgets\n",
    "import os\n",
    "\n",
    "mongodb_uri_widget = widgets.Password(\n",
    "    description='Your Atlas URI:',\n",
    "    disabled=False,\n",
    "    style=dict(description_width='125px')\n",
    ")\n",
    "\n",
    "openai_api_key_widget = widgets.Password(\n",
    "    description='Your OpenAI API key:',\n",
    "    disabled=False,\n",
    "    style=dict(description_width='125px')\n",
    ")\n",
    "\n",
    "display(mongodb_uri_widget)\n",
    "display(openai_api_key_widget)"
   ]
  },
  {
   "cell_type": "markdown",
   "id": "b6c3bdf5",
   "metadata": {
    "slideshow": {
     "slide_type": "slide"
    }
   },
   "source": [
    "# Retrieval Augmented Generation\n",
    "### Using MongoDB Atlas, OpenAI and LangChain"
   ]
  },
  {
   "cell_type": "code",
   "execution_count": 7,
   "id": "88ce891f",
   "metadata": {
    "collapsed": true,
    "slideshow": {
     "slide_type": "fragment"
    }
   },
   "outputs": [
    {
     "data": {
      "text/html": [
       "\n",
       "        <iframe\n",
       "            width=\"1280\"\n",
       "            height=\"500\"\n",
       "            src=\"https://s3.amazonaws.com/info-mongodb-com/MongoDB_Architecture_Guide.pdf\"\n",
       "            frameborder=\"0\"\n",
       "            allowfullscreen\n",
       "            \n",
       "        ></iframe>\n",
       "        "
      ],
      "text/plain": [
       "<IPython.lib.display.IFrame at 0x7f7934191100>"
      ]
     },
     "execution_count": 7,
     "metadata": {},
     "output_type": "execute_result"
    }
   ],
   "source": [
    "from IPython.display import IFrame\n",
    "\n",
    "PDF_URI = \"https://s3.amazonaws.com/info-mongodb-com/MongoDB_Architecture_Guide.pdf\"\n",
    "IFrame(PDF_URI, width=1280, height=500)"
   ]
  },
  {
   "cell_type": "markdown",
   "id": "7fffd967",
   "metadata": {
    "slideshow": {
     "slide_type": "slide"
    }
   },
   "source": [
    "# Get connection to MongoDB Atlas"
   ]
  },
  {
   "cell_type": "code",
   "execution_count": 8,
   "id": "e99c8377-2475-4e5d-b94a-b4e80bc8ce87",
   "metadata": {
    "collapsed": true,
    "slideshow": {
     "slide_type": "fragment"
    }
   },
   "outputs": [
    {
     "data": {
      "text/plain": [
       "'rag_demo.content document count is 18'"
      ]
     },
     "execution_count": 8,
     "metadata": {},
     "output_type": "execute_result"
    }
   ],
   "source": [
    "from pymongo import MongoClient\n",
    "import os\n",
    "\n",
    "mongo_db_name = 'rag_demo'\n",
    "mongo_coll_name = 'content'\n",
    "\n",
    "mongo_client = MongoClient(mongodb_uri_widget.value)\n",
    "mongo_coll = mongo_client[mongo_db_name][mongo_coll_name]\n",
    "mongo_db_and_coll_path = '{}.{}'.format(mongo_db_name, mongo_coll_name)\n",
    "\n",
    "doc_count = mongo_coll.count_documents({})\n",
    "'{} document count is {:,}'.format(mongo_db_and_coll_path, doc_count)"
   ]
  },
  {
   "cell_type": "code",
   "execution_count": 9,
   "id": "a9933ee6",
   "metadata": {
    "collapsed": true,
    "slideshow": {
     "slide_type": "skip"
    }
   },
   "outputs": [
    {
     "data": {
      "text/plain": [
       "<pymongo.results.DeleteResult at 0x7f7933ff3ac0>"
      ]
     },
     "execution_count": 9,
     "metadata": {},
     "output_type": "execute_result"
    }
   ],
   "source": [
    "# Delete existing documents -- run before demo\n",
    "mongo_coll.delete_many({})"
   ]
  },
  {
   "cell_type": "markdown",
   "id": "1cdf4297",
   "metadata": {
    "slideshow": {
     "slide_type": "slide"
    }
   },
   "source": [
    "# Select embeddings/transformer model"
   ]
  },
  {
   "cell_type": "code",
   "execution_count": 10,
   "id": "1fc7b0b4-19c9-4965-8491-dcda400e32e3",
   "metadata": {
    "slideshow": {
     "slide_type": "fragment"
    }
   },
   "outputs": [
    {
     "name": "stdout",
     "output_type": "stream",
     "text": [
      "Embedding Model - OpenAI\n"
     ]
    }
   ],
   "source": [
    "from langchain.embeddings import OpenAIEmbeddings\n",
    "\n",
    "embeddings_model = OpenAIEmbeddings(\n",
    "    model='text-embedding-ada-002',\n",
    "    openai_api_key=openai_api_key_widget.value\n",
    ")\n",
    "\n",
    "print('Embedding Model - OpenAI')"
   ]
  },
  {
   "cell_type": "markdown",
   "id": "f344cf95",
   "metadata": {
    "slideshow": {
     "slide_type": "slide"
    }
   },
   "source": [
    "# Split PDF into chunks"
   ]
  },
  {
   "cell_type": "code",
   "execution_count": 11,
   "id": "a1008c71-2762-4162-852f-b351bff1a6dc",
   "metadata": {
    "collapsed": true,
    "slideshow": {
     "slide_type": "fragment"
    }
   },
   "outputs": [
    {
     "data": {
      "text/plain": [
       "'PDF has resulted in 18 chunks'"
      ]
     },
     "execution_count": 11,
     "metadata": {},
     "output_type": "execute_result"
    }
   ],
   "source": [
    "from langchain.document_loaders import PyPDFLoader\n",
    "\n",
    "loader = PyPDFLoader(PDF_URI)\n",
    "chunked_docs = loader.load_and_split()\n",
    "\n",
    "'PDF has resulted in {:,} chunks'.format(len(chunked_docs))"
   ]
  },
  {
   "cell_type": "code",
   "execution_count": 12,
   "id": "c716f036",
   "metadata": {
    "collapsed": true,
    "slideshow": {
     "slide_type": "fragment"
    }
   },
   "outputs": [
    {
     "data": {
      "text/plain": [
       "'The biggest chunk contains 415 words'"
      ]
     },
     "execution_count": 12,
     "metadata": {},
     "output_type": "execute_result"
    }
   ],
   "source": [
    "biggest_chunk_length = max(len(chunk.page_content.split()) for chunk in chunked_docs)\n",
    "'The biggest chunk contains {:,} words'.format(biggest_chunk_length)"
   ]
  },
  {
   "cell_type": "markdown",
   "id": "998a216a",
   "metadata": {
    "slideshow": {
     "slide_type": "slide"
    }
   },
   "source": [
    "# Create vectors and add to MongoDB Atlas"
   ]
  },
  {
   "cell_type": "code",
   "execution_count": 13,
   "id": "339402be",
   "metadata": {
    "slideshow": {
     "slide_type": "fragment"
    }
   },
   "outputs": [],
   "source": [
    "from langchain.vectorstores import MongoDBAtlasVectorSearch\n",
    "\n",
    "vector_db = MongoDBAtlasVectorSearch.from_documents(\n",
    "    chunked_docs,\n",
    "    embeddings_model,\n",
    "    collection=mongo_coll\n",
    ")"
   ]
  },
  {
   "cell_type": "code",
   "execution_count": 14,
   "id": "fdb1bf89",
   "metadata": {
    "collapsed": true,
    "slideshow": {
     "slide_type": "fragment"
    }
   },
   "outputs": [
    {
     "data": {
      "text/plain": [
       "'MongoDB document count in rag_demo.content is 18'"
      ]
     },
     "execution_count": 14,
     "metadata": {},
     "output_type": "execute_result"
    }
   ],
   "source": [
    "doc_count = mongo_coll.count_documents({})\n",
    "'MongoDB document count in {} is {:,}'.format(mongo_db_and_coll_path, doc_count)"
   ]
  },
  {
   "cell_type": "markdown",
   "id": "aa68054b",
   "metadata": {
    "slideshow": {
     "slide_type": "slide"
    }
   },
   "source": [
    "# Create MongoDB Atlas vector search index in Atlas"
   ]
  },
  {
   "cell_type": "code",
   "execution_count": 15,
   "id": "e6448a3d-424b-4e09-bed9-ce59839ba76f",
   "metadata": {
    "slideshow": {
     "slide_type": "skip"
    }
   },
   "outputs": [],
   "source": [
    "# Navigate to Atlas Search and Create a new Search Index\n",
    "\n",
    "# Configuration method - Atlas Vector Search (JSON Editor)\n",
    "\n",
    "# Index name - rag_demo_index\n",
    "\n",
    "# Database and collection - rag_demo | content\n",
    "\n",
    "# \n",
    "# {\n",
    "#   \"fields\": [\n",
    "#     {\n",
    "#       \"numDimensions\": 1536,\n",
    "#       \"path\": \"embedding\",\n",
    "#       \"similarity\": \"cosine\",\n",
    "#       \"type\": \"vector\"\n",
    "#     }\n",
    "#   ]\n",
    "# }\n",
    "\n",
    "# Click next and Create Index"
   ]
  },
  {
   "cell_type": "markdown",
   "id": "b687504a",
   "metadata": {
    "slideshow": {
     "slide_type": "slide"
    }
   },
   "source": [
    "# Create a LangChain handle for the vector search index"
   ]
  },
  {
   "cell_type": "code",
   "execution_count": 16,
   "id": "ddc9d39f-73d6-4916-8d2f-2d051e225834",
   "metadata": {
    "slideshow": {
     "slide_type": "fragment"
    }
   },
   "outputs": [],
   "source": [
    "vector_db = MongoDBAtlasVectorSearch.from_connection_string(\n",
    "    mongodb_uri_widget.value,\n",
    "    mongo_db_and_coll_path,\n",
    "    embeddings_model,\n",
    "    index_name='rag_demo_index'\n",
    ")"
   ]
  },
  {
   "cell_type": "markdown",
   "id": "98758bb4",
   "metadata": {
    "slideshow": {
     "slide_type": "slide"
    }
   },
   "source": [
    "# Setup question function"
   ]
  },
  {
   "cell_type": "code",
   "execution_count": 20,
   "id": "dc392dd9-a6e9-4359-ab6a-76b96b464c38",
   "metadata": {
    "slideshow": {
     "slide_type": "fragment"
    }
   },
   "outputs": [],
   "source": [
    "from langchain.chains import ConversationalRetrievalChain\n",
    "from langchain.schema.document import Document\n",
    "from langchain.chat_models import ChatOpenAI\n",
    "\n",
    "llm_model = ChatOpenAI(\n",
    "    model_name='gpt-3.5-turbo',\n",
    "    temperature=0.0,\n",
    "    openai_api_key=openai_api_key_widget.value\n",
    ")\n",
    "\n",
    "pdf_qa = ConversationalRetrievalChain.from_llm(\n",
    "    llm_model,\n",
    "    vector_db.as_retriever(),\n",
    "    return_source_documents=True\n",
    ")\n",
    "\n",
    "def ask_question(question):\n",
    "    result = pdf_qa({'question': 'Answer only if this information is available in the source document - ' + question, 'chat_history': []})\n",
    "    print(\"Answer:{}\\n\".format(result.get('answer')))\n",
    "    print('Chunks from Atlas Vector Search used for context:')\n",
    "    \n",
    "    for chunk in result.get('source_documents'):\n",
    "        id = chunk.metadata['_id']\n",
    "        page = chunk.metadata['page']\n",
    "        print('ObjectId({}) | page {:,}'.format(id, page))"
   ]
  },
  {
   "cell_type": "markdown",
   "id": "eb3718d4",
   "metadata": {
    "slideshow": {
     "slide_type": "slide"
    }
   },
   "source": [
    "# Start asking questions"
   ]
  },
  {
   "cell_type": "code",
   "execution_count": 21,
   "id": "66fa8a5e",
   "metadata": {
    "collapsed": true
   },
   "outputs": [
    {
     "name": "stdout",
     "output_type": "stream",
     "text": [
      "Answer:MongoDB is a general-purpose database that combines the best aspects of relational and NoSQL databases. It replaces the rigid tables of relational databases with flexible documents that can store data as JSON. MongoDB is used because it allows developers to be more productive, build or iterate upon applications faster, and model data in any way that suits the application. It offers improved support for time series data, enabling efficient capture and analysis of time series data critical for modern applications like IoT, stock trading, clickstreams, and social media. Additionally, MongoDB's flexible schema allows for dynamic adaptation to changes without the need for disruptive schema migrations, making it easier to continuously integrate new application functionality.\n",
      "\n",
      "Chunks from Atlas Vector Search used for context:\n",
      "ObjectId(65e883cce9f4771b07df0f9e) | page 1\n",
      "ObjectId(65e883cce9f4771b07df0f9f) | page 2\n",
      "ObjectId(65e883cce9f4771b07df0f9d) | page 0\n",
      "ObjectId(65e883cce9f4771b07df0fa1) | page 4\n"
     ]
    }
   ],
   "source": [
    "ask_question(\"What is MongoDB and why is it used?\")"
   ]
  },
  {
   "cell_type": "code",
   "execution_count": 22,
   "id": "3d458db5",
   "metadata": {
    "collapsed": true,
    "slideshow": {
     "slide_type": "fragment"
    }
   },
   "outputs": [
    {
     "name": "stdout",
     "output_type": "stream",
     "text": [
      "Answer:Based on the provided information from the MongoDB Architecture Guide, MongoDB's architecture is designed based on the following principles:\n",
      "\n",
      "1. **Flexible Schema**: MongoDB allows for a dynamic and self-describing schema, where fields can vary from document to document. This flexibility enables developers to continuously integrate new application functionality without the need for disruptive schema migrations. Changes to the data model can be made without costly operations like \"ALTER TABLE,\" making it easier to manage schema changes across multiple teams.\n",
      "\n",
      "2. **Universal JSON Documents**: MongoDB stores data as JSON documents in a binary representation called BSON (Binary JSON). JSON has become a standard for data communication and storage due to its lightweight and language-independent nature. MongoDB's BSON encoding extends the JSON representation to include additional types like int, long, date, floating point, and decimal128. This allows for more reliable processing, sorting, and comparison of data within MongoDB.\n",
      "\n",
      "These principles of flexible schema and universal JSON documents are foundational to MongoDB's architecture, enabling developers to work with diverse data structures and types efficiently.\n",
      "\n",
      "Chunks from Atlas Vector Search used for context:\n",
      "ObjectId(65e883cce9f4771b07df0f9d) | page 0\n",
      "ObjectId(65e883cce9f4771b07df0f9e) | page 1\n",
      "ObjectId(65e883cce9f4771b07df0fae) | page 17\n",
      "ObjectId(65e883cce9f4771b07df0fa1) | page 4\n"
     ]
    }
   ],
   "source": [
    "ask_question(\"Explain the basic principles behind MongoDB's architecture?\")"
   ]
  },
  {
   "cell_type": "code",
   "execution_count": 23,
   "id": "c162a4ab",
   "metadata": {
    "collapsed": true
   },
   "outputs": [
    {
     "name": "stdout",
     "output_type": "stream",
     "text": [
      "Answer:I don't have that specific information available in the provided document.\n",
      "\n",
      "Chunks from Atlas Vector Search used for context:\n",
      "ObjectId(65e883cce9f4771b07df0f9e) | page 1\n",
      "ObjectId(65e883cce9f4771b07df0fa8) | page 11\n",
      "ObjectId(65e883cce9f4771b07df0fac) | page 15\n",
      "ObjectId(65e883cce9f4771b07df0fae) | page 17\n"
     ]
    }
   ],
   "source": [
    "ask_question(\"What are the requirements to open an account with Ally Bank?\")"
   ]
  },
  {
   "cell_type": "code",
   "execution_count": 24,
   "id": "74a35606",
   "metadata": {
    "collapsed": true,
    "slideshow": {
     "slide_type": "skip"
    }
   },
   "outputs": [
    {
     "name": "stdout",
     "output_type": "stream",
     "text": [
      "Atlas Vector Search roundtrip took 261 ms\n"
     ]
    },
    {
     "data": {
      "text/plain": [
       "[{'_id': ObjectId('65e880ee6d99efb760ca2c08'), 'page': 5},\n",
       " {'_id': ObjectId('65e880ee6d99efb760ca2c11'), 'page': 14},\n",
       " {'_id': ObjectId('65e880ee6d99efb760ca2c04'), 'page': 1},\n",
       " {'_id': ObjectId('65e880ee6d99efb760ca2c0b'), 'page': 8}]"
      ]
     },
     "execution_count": 24,
     "metadata": {},
     "output_type": "execute_result"
    }
   ],
   "source": [
    "# Use this cell to show that the majority of time spent waiting is due to the LLM, not Atlas Vector Search\n",
    "\n",
    "import time\n",
    "\n",
    "search_vector = embeddings_model.embed_query(\"How should I optimize query performance?\")\n",
    "\n",
    "before_time = time.perf_counter()\n",
    "cursor = mongo_coll.aggregate([\n",
    "    {\n",
    "        \"$vectorSearch\": {\n",
    "            \"index\": \"rag_demo_index\",\n",
    "            \"path\": \"embedding\",\n",
    "            \"queryVector\": search_vector,\n",
    "            \"numCandidates\": 100,\n",
    "            \"limit\": 4\n",
    "        }\n",
    "    },\n",
    "    {\n",
    "        \"$project\": {\n",
    "            \"_id\": 1,\n",
    "            \"page\": 1,\n",
    "        }\n",
    "    }\n",
    "])\n",
    "vector_search_ms = int((time.perf_counter() - before_time) * 1_000)\n",
    "print('Atlas Vector Search roundtrip took {} ms'.format(vector_search_ms))\n",
    "list(cursor)"
   ]
  },
  {
   "cell_type": "code",
   "execution_count": null,
   "id": "b8bbe359",
   "metadata": {},
   "outputs": [],
   "source": []
  }
 ],
 "metadata": {
  "celltoolbar": "Slideshow",
  "kernelspec": {
   "display_name": "Python 3 (ipykernel)",
   "language": "python",
   "name": "python3"
  },
  "language_info": {
   "codemirror_mode": {
    "name": "ipython",
    "version": 3
   },
   "file_extension": ".py",
   "mimetype": "text/x-python",
   "name": "python",
   "nbconvert_exporter": "python",
   "pygments_lexer": "ipython3",
   "version": "3.9.13"
  },
  "rise": {
   "controls": false,
   "footer": "<img class=\"logomark\" src=\"rise/MongoDB_Logomark_ForestGreen.svg\" />",
   "scroll": true,
   "slideNumber": "c/t"
  }
 },
 "nbformat": 4,
 "nbformat_minor": 5
}
